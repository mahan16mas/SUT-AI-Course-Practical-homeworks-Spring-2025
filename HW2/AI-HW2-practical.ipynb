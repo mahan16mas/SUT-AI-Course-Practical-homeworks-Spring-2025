{
 "cells": [
  {
   "cell_type": "markdown",
   "metadata": {
    "id": "UGN05fs7ZBH6"
   },
   "source": [
    "### 📌 **Practical Notebook - AI Problem Solving**\n",
    "#### **Constraint Satisfaction Problems (CSP), Cryptarithmetic Puzzles, and Adversarial Search**\n",
    "Amir Mohammad Mahfozi - Arman Tahmasebi\n",
    "\n",
    "---\n",
    "\n",
    "# <div align=\"center\">\n",
    "# <img src=\"https://cdn.freebiesupply.com/logos/large/2x/sharif-logo-png-transparent.png\" width=150 height=150>\n",
    "# <br>\n",
    "# <font color=0F5298 size=7>\n",
    "# Artificial Intelligence - Practical Assignment\n",
    "# </font>\n",
    "# </div>\n",
    "\n",
    "---\n",
    "\n",
    "## **📝 Student Information**\n",
    "Before starting the assignment, please fill in your details below.\n",
    "\n",
    "- **Name:** *Mahan Masoumzade*\n",
    "- **Student ID:** *402106518*\n",
    "\n",
    "---\n",
    "\n",
    "## **🏰 The Kingdom Conflict of Eldoria**\n",
    "### **📖 Background Story**\n",
    "The great land of **Eldoria** is composed of multiple **kingdoms**, each ruled by different noble families. Due to historical rivalries and past wars, some kingdoms refuse to be aligned with the same ruling faction. \n",
    "\n",
    "Your task is to ensure diplomatic stability by:\n",
    "1. **Assigning ruling factions (colors) to each kingdom.**\n",
    "2. **Ensuring that neighboring rival kingdoms do not share the same faction.**\n",
    "3. **Minimizing the number of different factions used while ensuring fairness.**\n",
    "\n",
    "This problem is a classic example of a **Constraint Satisfaction Problem (CSP)**, specifically **Graph Coloring**, where:\n",
    "- Each **kingdom** is a **node** in a graph.\n",
    "- Each **rivalry** between two kingdoms is an **edge** connecting two nodes.\n",
    "- Each **ruling faction (color)** is an **assignment** that must follow constraints.\n",
    "\n",
    "---\n",
    "### **🔢 Unlocking the Treasure - Cryptarithmetic Puzzles**\n",
    "After stabilizing Eldoria, you discover an ancient locked **treasure chest** deep within the royal archives.  \n",
    "The lock is encrypted with a **mathematical puzzle**, and only those skilled in **Cryptarithmetic** can solve it.  \n",
    "Your mission: **Decode the puzzle** and open the treasure!\n",
    "\n",
    "---\n",
    "### **🎮 The Hidden Challenge - Adversarial Search in Othello**\n",
    "Inside the chest, you find an ancient **board game** that requires strategic thinking. The game is a **version of Othello**,  \n",
    "and to win, you must design an **intelligent AI agent** using **Adversarial Search techniques** like:\n",
    "- **Minimax Algorithm**\n",
    "- **Alpha-Beta Pruning**\n",
    "- **Expectimax**\n",
    "\n",
    "Your final task: **Train an AI agent to play and win the game!** 🏆\n",
    "\n",
    "---\n",
    "## **🎯 Learning Objectives**\n",
    "By the end of this assignment, you will:\n",
    "✅ Understand how **Constraint Satisfaction Problems (CSPs)** work.  \n",
    "✅ Learn how to solve a **Graph Coloring Problem** using CSP techniques.  \n",
    "✅ Implement **Backtracking Search** to find valid assignments.  \n",
    "✅ Solve **Cryptarithmetic Puzzles** with AI techniques.  \n",
    "✅ Apply **Adversarial Search Algorithms** in strategic decision-making.  \n",
    "\n",
    "---\n",
    "## **📌 Instructions**\n",
    "1. **Read each section carefully** and follow the explanations.\n",
    "2. Parts of the code are **missing** (marked as `TODO`). You need to **fill them in**.\n",
    "3. **Run each code cell** after implementing the missing parts.\n",
    "4. Answer the **questions** provided in some sections.\n",
    "\n",
    "Let's begin! 🎯\n"
   ]
  },
  {
   "cell_type": "markdown",
   "metadata": {
    "id": "VOKTb9P9ZYXw"
   },
   "source": [
    "## **Problem Statement: Graph Coloring CSP**\n",
    "Eldoria is represented as an **undirected graph**, where:\n",
    "- **Each kingdom is a node**.\n",
    "- **Each edge signifies a historical conflict** between two kingdoms that refuse to be ruled by the same faction.\n",
    "- **Your goal is to assign each kingdom a faction (color) while ensuring no two neighboring kingdoms share the same faction.**"
   ]
  },
  {
   "cell_type": "markdown",
   "metadata": {
    "id": "fQtibkggZlFi"
   },
   "source": [
    "### **Input Format:**\n",
    "- The first line contains an integer $N$ representing the number of **kingdoms**.\n",
    "- The second line contains an integer $M$ indicating the number of **available factions (colors)**.\n",
    "- The next $E$ lines each contain two integers $u$ and $v$, representing a conflict between kingdoms $u$ and $v$.\n"
   ]
  },
  {
   "cell_type": "markdown",
   "metadata": {
    "id": "n8rQJ2GrZzvl"
   },
   "source": [
    "#### **Example Input:**\n",
    "```\n",
    "5\n",
    "3\n",
    "0 1\n",
    "0 2\n",
    "1 3\n",
    "1 4\n",
    "3 4\n",
    "```\n",
    "\n",
    "### **Output Format:**\n",
    "- A list where each index represents a kingdom, and the value at that index represents its assigned faction (color).\n"
   ]
  },
  {
   "cell_type": "markdown",
   "metadata": {
    "id": "qdrB-y95aOzG"
   },
   "source": [
    "### **Your Task:**\n",
    "- Implement the **AC-3 Algorithm** for constraint propagation.\n",
    "- Use **Minimum Remaining Values (MRV)** and **Least Constraining Value (LCV)** heuristics to optimize the solution.\n",
    "- Apply **Backtracking Search** to find a valid ruling assignment."
   ]
  },
  {
   "cell_type": "markdown",
   "metadata": {
    "id": "uwiX4631aV75"
   },
   "source": [
    "### **Implementation**\n",
    "\n",
    "#### **Step 1: Load Libraries**"
   ]
  },
  {
   "cell_type": "code",
   "execution_count": 1,
   "metadata": {
    "id": "3XsJ-nk9Y-Xk",
    "is_executing": true
   },
   "outputs": [],
   "source": [
    "import numpy as np\n",
    "import matplotlib.pyplot as plt\n",
    "import networkx as nx\n",
    "import copy\n",
    "from collections import deque\n",
    "\n",
    "np.random.seed(42)"
   ]
  },
  {
   "cell_type": "markdown",
   "metadata": {
    "id": "qlePu8urac6t"
   },
   "source": [
    "#### **Step 2: Define the Kingdom Conflict Graph**\n",
    "The function should read from a file.\n",
    "Store conflict information in a dictionary.\n",
    "Initialize each kingdom's faction choices."
   ]
  },
  {
   "cell_type": "code",
   "execution_count": 3,
   "metadata": {
    "id": "eBBah8fIamop"
   },
   "outputs": [],
   "source": [
    "# Store conflicts and domain constraints\n",
    "conflicts = {}\n",
    "factions = {}\n",
    "\n",
    "# Function to parse input data\n",
    "def load_kingdom_data(file_path):\n",
    "    conflicts.clear()\n",
    "    factions.clear()\n",
    "    with open(file_path, 'r') as f:\n",
    "        data = f.readlines()\n",
    "\n",
    "    global num_kingdoms, num_factions\n",
    "    num_kingdoms = int(data[0].strip())\n",
    "    num_factions = int(data[1].strip())\n",
    "\n",
    "    for i in range(num_kingdoms):\n",
    "        conflicts[i] = []\n",
    "        factions[i] = list(range(num_factions))\n",
    "\n",
    "    for line in data[2:]:\n",
    "        u, v = map(int, line.strip().split())\n",
    "        conflicts[u].append(v)\n",
    "        conflicts[v].append(u)"
   ]
  },
  {
   "cell_type": "markdown",
   "metadata": {
    "id": "8bG6DICAbWeH"
   },
   "source": [
    "#### **Step 3: Implement AC-3 Algorithm**\n",
    "AC-3 (Arc Consistency 3) is used to reduce the domain of choices for each kingdom before backtracking.\n",
    "\n",
    "📝 TODO: Implement the revise() function\n",
    "This function should remove invalid faction choices for a kingdom.\n",
    "It ensures that neighboring kingdoms do not get the same faction."
   ]
  },
  {
   "cell_type": "code",
   "execution_count": 4,
   "metadata": {
    "id": "lIbpH4LSbVJf"
   },
   "outputs": [],
   "source": [
    "def ac3(variables):\n",
    "    \"\"\" Applies AC-3 constraint propagation algorithm. Returns True if a valid assignment remains and False otherwise. \"\"\"\n",
    "    queue = deque()\n",
    "    for kingdom in variables.keys():\n",
    "        for neighbor in conflicts[kingdom]:\n",
    "            queue.append((kingdom, neighbor))\n",
    "    \n",
    "    while queue:\n",
    "        x, y = queue.popleft()\n",
    "        if revise(x, y):\n",
    "            if not factions[x]:\n",
    "                return False\n",
    "            \n",
    "            for neighbor in conflicts[x]:\n",
    "                queue.append((neighbor, x))\n",
    "                    \n",
    "    return True\n",
    "\n",
    "def revise(x, y):\n",
    "    \"\"\" Removes values from x that are inconsistent with y. \"\"\"\n",
    "    revised = False\n",
    "    removing_items = set()\n",
    "    for c in factions[x]:\n",
    "        if all(c == c2 for c2 in factions[y]):\n",
    "            removing_items.add(c)\n",
    "            revised = True\n",
    "\n",
    "    for c in removing_items:\n",
    "        factions[x].remove(c)\n",
    "        \n",
    "    return revised\n"
   ]
  },
  {
   "cell_type": "markdown",
   "metadata": {
    "id": "FCOqctOxbpTW"
   },
   "source": [
    "#### **Step 4: Implement Heuristics - MRV & LCV**\n",
    "MRV (Minimum Remaining Values) selects the most constrained variable first.\n",
    "LCV (Least Constraining Value) picks values that minimize conflicts."
   ]
  },
  {
   "cell_type": "code",
   "execution_count": 5,
   "metadata": {
    "id": "FzsC-IVGbqgr"
   },
   "outputs": [],
   "source": [
    "def select_unassigned_variable():\n",
    "    \"\"\" Selects the most constrained kingdom (MRV heuristic). \"\"\"\n",
    "    return min((k for k in factions if len(factions[k]) > 1), key=lambda k: len(factions[k]))\n",
    "\n",
    "def order_domain_values(var):\n",
    "    \"\"\" Orders factions based on LCV heuristic. \"\"\"\n",
    "    constraints = {}\n",
    "    for faction in factions[var]:\n",
    "        constraints[faction] = 0\n",
    "        for kingdom in conflicts[var]:\n",
    "            if faction in factions[kingdom]:\n",
    "                constraints[faction] += 1\n",
    "                \n",
    "            \n",
    "    return sorted(constraints, key=lambda k: constraints[k])\n"
   ]
  },
  {
   "cell_type": "markdown",
   "metadata": {
    "id": "8cGSN5KqbufH"
   },
   "source": [
    "#### **Step 5: Implement Backtracking Search**\n",
    "Try assigning a faction to a kingdom.\n",
    "Use AC-3 to reduce domains.\n",
    "Revert changes if a failure occurs (backtracking)."
   ]
  },
  {
   "cell_type": "code",
   "execution_count": 6,
   "metadata": {
    "id": "EBWB15jrbw9L"
   },
   "outputs": [],
   "source": [
    "def backtrack():\n",
    "    \"\"\" Uses Backtracking Search to assign factions. \"\"\"\n",
    "    if all(len(factions[v]) == 1 for v in factions):\n",
    "        return {v: factions[v][0] for v in factions}  # Solution found\n",
    "\n",
    "    var = select_unassigned_variable()\n",
    "    for value in order_domain_values(var):\n",
    "        temp_factions = copy.deepcopy(factions)\n",
    "        factions[var] = [value]\n",
    "\n",
    "        if ac3(factions):\n",
    "            result = backtrack()\n",
    "            if result:\n",
    "                return result\n",
    "\n",
    "        factions.update(temp_factions)  # Undo changes (backtracking)\n",
    "    return None\n"
   ]
  },
  {
   "cell_type": "markdown",
   "metadata": {
    "id": "QqFuddFSb8gg"
   },
   "source": [
    "#### **Step 6: Validate and Test the Implementation**"
   ]
  },
  {
   "cell_type": "code",
   "execution_count": 7,
   "metadata": {
    "colab": {
     "base_uri": "https://localhost:8080/"
    },
    "id": "nrQ-b8x8b9rh",
    "outputId": "af157783-6ff6-4120-bb14-158a3790af6b"
   },
   "outputs": [
    {
     "name": "stdout",
     "output_type": "stream",
     "text": [
      "Kingdom Assignments: {0: 0, 1: 1, 2: 1, 3: 0, 4: 2}\n"
     ]
    }
   ],
   "source": [
    "load_kingdom_data('input0.txt')\n",
    "solution = backtrack()\n",
    "print(\"Kingdom Assignments:\", solution)"
   ]
  },
  {
   "cell_type": "markdown",
   "metadata": {
    "id": "7HW3kDuKcOJL"
   },
   "source": [
    "#### **Step 7: Visualize the Solution**"
   ]
  },
  {
   "cell_type": "code",
   "execution_count": 8,
   "metadata": {
    "colab": {
     "base_uri": "https://localhost:8080/",
     "height": 636
    },
    "id": "YQbxD-HBcM0f",
    "outputId": "37b905a9-8479-4704-9633-69ea574e8af7"
   },
   "outputs": [
    {
     "data": {
      "image/png": "[encoded data removed]",
      "text/plain": [
       "<Figure size 800x600 with 1 Axes>"
      ]
     },
     "metadata": {},
     "output_type": "display_data"
    }
   ],
   "source": [
    "def plot_kingdoms():\n",
    "    G = nx.Graph()\n",
    "    for kingdom, neighbors_list in conflicts.items():\n",
    "        for neighbor in neighbors_list:\n",
    "            G.add_edge(kingdom, neighbor)\n",
    "\n",
    "    pos = nx.spring_layout(G)\n",
    "    factions_map = [solution[node] for node in G.nodes()]\n",
    "\n",
    "    plt.figure(figsize=(8, 6))\n",
    "    nx.draw(G, pos, with_labels=True, node_color=factions_map, cmap=plt.cm.Set1, edge_color='gray', node_size=500)\n",
    "    plt.show()\n",
    "\n",
    "plot_kingdoms()"
   ]
  },
  {
   "cell_type": "code",
   "execution_count": 10,
   "metadata": {
    "colab": {
     "base_uri": "https://localhost:8080/",
     "height": 673
    },
    "id": "uEEXOL_sdL2b",
    "outputId": "49a35e79-7806-4a29-ebdc-e13446eb20dc"
   },
   "outputs": [
    {
     "name": "stdout",
     "output_type": "stream",
     "text": [
      "Kingdom Assignments: {0: 0, 1: 1, 2: 0, 3: 1, 4: 0, 5: 2, 6: 0, 7: 1, 8: 0, 9: 2, 10: 2, 11: 2, 12: 1, 13: 1, 14: 0, 15: 2, 16: 0, 17: 1, 18: 0, 19: 2, 20: 0, 21: 1, 22: 0, 23: 2, 24: 0, 25: 1, 26: 0, 27: 2, 28: 0, 29: 1, 30: 0, 31: 2, 32: 0, 33: 1, 34: 0, 35: 1, 36: 0, 37: 1, 38: 0, 39: 1}\n"
     ]
    },
    {
     "data": {
      "image/png": "[encoded data removed]",
      "text/plain": [
       "<Figure size 800x600 with 1 Axes>"
      ]
     },
     "metadata": {},
     "output_type": "display_data"
    }
   ],
   "source": [
    "load_kingdom_data('map.txt')\n",
    "solution = backtrack()\n",
    "print(\"Kingdom Assignments:\", solution)\n",
    "plot_kingdoms()"
   ]
  },
  {
   "cell_type": "markdown",
   "metadata": {
    "id": "vS4NkwdJiddk"
   },
   "source": [
    "## **Part 2: Unlocking the Treasure (Cryptarithmetic Puzzle CSP)**\n",
    "### **Background:**\n",
    "After successfully stabilizing the kingdom, the great vault of Eldoria's lost treasure has been discovered. However, it is **locked with an ancient code** that must be deciphered using a **cryptarithmetic puzzle**. Your task is to crack the code and unlock the treasure!\n",
    "\n",
    "---\n",
    "\n",
    "### **Problem Statement: Cryptarithmetic Puzzle**\n",
    "The treasure chest is locked using a numerical puzzle where **letters represent unique digits (0-9)**. You must assign each letter a unique digit such that the given arithmetic equation holds.\n",
    "\n",
    "#### **Example Puzzle:**\n",
    "```\n",
    "  GOLD\n",
    "+ COIN\n",
    "------\n",
    "  CHEST\n",
    "```\n",
    "Each letter corresponds to a distinct digit, and the equation must be mathematically valid.\n",
    "\n",
    "### **Constraints:**\n",
    "- Each **letter represents a unique digit** (0-9).\n",
    "- No two letters can have the **same digit**.\n",
    "- The sum must be mathematically correct.\n",
    "- No leading zeros.\n",
    "\n",
    "---\n",
    "\n",
    "### **Your Task:**\n",
    "- Implement **Backtracking Search** to assign digits to letters.\n",
    "- Use **Minimum Remaining Values (MRV)** and **Least Constraining Value (LCV)** heuristics to optimize the solution.\n",
    "- Ensure the final assignment satisfies all constraints.\n",
    "\n",
    "---\n",
    "\n",
    "### **Implementation**\n",
    "\n",
    "#### **Step 1: Define the Cryptarithmetic Puzzle**\n",
    "We need a function to convert a word into a number based on a given letter-digit mapping.\n",
    "\n",
    "📝 TODO: Implement word_to_number()\n",
    "Convert a word into a number using the given mapping.\n",
    "Example: If mapping = {'S': 9, 'E': 5, 'N': 6, 'D': 7},\n",
    "then \"SEND\" should convert to 9567."
   ]
  },
  {
   "cell_type": "code",
   "execution_count": 11,
   "metadata": {
    "id": "ngyUdvjniuaA"
   },
   "outputs": [],
   "source": [
    "import itertools\n",
    "def word_to_number(word, mapping):\n",
    "    \"\"\" Converts a word into its numeric equivalent using the mapping. \"\"\"\n",
    "\n",
    "    return int(\"\".join([str(mapping.get(char, 0)) for char in word]))\n",
    "\n",
    "\n",
    "def is_valid_solution(mapping, words, result):\n",
    "    \"\"\" Checks if the given letter-to-digit mapping satisfies the puzzle equation. \"\"\"\n",
    "    sum_required = sum([word_to_number(word, mapping) for word in words])\n",
    "    return sum_required == word_to_number(result, mapping)\n",
    "\n",
    "\n"
   ]
  },
  {
   "cell_type": "markdown",
   "metadata": {
    "id": "B2Wgy1ZzizXL"
   },
   "source": [
    "#### **Step 2: Solve Using Backtracking**\n",
    "Using MRV and LCV to solve the problem."
   ]
  },
  {
   "cell_type": "code",
   "execution_count": null,
   "metadata": {},
   "outputs": [],
   "source": [
    "def solve_cryptarithmetic(words, result):\n",
    "    letters = set(\"\".join(words) + result)\n",
    "    assert len(letters) <= 10, \"Too many unique letters for a valid cryptarithmetic puzzle.\"\n",
    "    return backtrack(result, words, letters)\n",
    "\n",
    "\n",
    "def backtrack(result, words, letters, mapping=None):\n",
    "    if mapping is None:\n",
    "        mapping = {}\n",
    "    \n",
    "    if len(mapping.keys()) == len(letters):\n",
    "        if sum(word_to_number(word, mapping) for word in words) == word_to_number(result, mapping):\n",
    "            return mapping\n",
    "        return None\n",
    "\n",
    "    var, index, is_result = MRV(mapping, words, result)\n",
    "    for value in LCV(var, mapping, words, result, index, is_result):\n",
    "        mapping[var] = value\n",
    "\n",
    "        ans = backtrack(result, words, letters, mapping)\n",
    "        if ans:\n",
    "            return ans\n",
    "        \n",
    "        mapping.pop(var)\n",
    "    return None\n",
    "\n",
    "\n",
    "def LCV(var, mapping: dict, words, result, index, is_result):\n",
    "    \n",
    "    if is_final_char(words, result, index, var, mapping):\n",
    "        s = sum(word_to_number(word[-min(len(word), index):], mapping) for word in words)\n",
    "        res_num = word_to_number(result[-index:], mapping)\n",
    "        final_number = ((res_num - s) // 10 ** (index - 1)) % 10\n",
    "        final_candidates = [] if final_number in mapping.values() else [final_number]\n",
    "    else:\n",
    "        final_candidates = set(range(10)) - set(mapping.values())\n",
    "\n",
    "\n",
    "    if 0 in final_candidates:\n",
    "        for word in words:\n",
    "            if var == word[0]:\n",
    "                final_candidates.remove(0)\n",
    "                break\n",
    "        else: \n",
    "            if result[0] == var:\n",
    "                final_candidates.remove(0)\n",
    "    return final_candidates\n",
    "        \n",
    "def is_final_char(words, result, index, var, mapping):\n",
    "    for word in words:\n",
    "        if word[-index] not in mapping and word[-index] != var:\n",
    "            return False\n",
    "    if result[-index] not in mapping and result[-index] != var:\n",
    "        return False\n",
    "    return True \n",
    "\n",
    "def MRV(mapping: dict, words, result):\n",
    "    index = -1\n",
    "    while True:\n",
    "        if result[index] not in mapping:\n",
    "            return (result[index], -index, True)\n",
    "        for word in words:\n",
    "            if index < len(word) and word[index] not in mapping:\n",
    "                return (word[index], - index, False)\n",
    "        index -= 1\n",
    "\n",
    "\n",
    "\n"
   ]
  },
  {
   "cell_type": "markdown",
   "metadata": {
    "id": "Ji9sJBA2i2G-"
   },
   "source": [
    "#### **Step 3: Run and Display the Solution**"
   ]
  },
  {
   "cell_type": "code",
   "execution_count": 13,
   "metadata": {
    "colab": {
     "base_uri": "https://localhost:8080/"
    },
    "id": "HfyIZg_1i7mR",
    "outputId": "9380cf18-1362-4911-d269-15eba00f2e87"
   },
   "outputs": [
    {
     "name": "stdout",
     "output_type": "stream",
     "text": [
      "Solution: {'Y': 2, 'D': 7, 'E': 5, 'N': 6, 'R': 8, 'O': 0, 'S': 9, 'M': 1}\n",
      "9585106\n"
     ]
    }
   ],
   "source": [
    "words = [\"SEND\", \"MORE\"]\n",
    "result = \"MONEY\"\n",
    "solution = solve_cryptarithmetic(words, result)\n",
    "\n",
    "print(\"Solution:\", solution if solution else \"No solution found\")\n",
    "print(word_to_number('SEREMON', solution))"
   ]
  },
  {
   "cell_type": "markdown",
   "metadata": {
    "id": "GcIBYSzpng8X"
   },
   "source": [
    "The Final Lock – Unlocking the Treasure Chest\n",
    "After solving the kingdom conflict puzzle, you finally reach the hidden treasure chest deep inside the ruins of Eldoria. The chest is ancient, covered in golden engravings, and protected by a mystical numerical lock.\n",
    "\n",
    "As you examine the lock, you notice an inscription:\n",
    "\n",
    "\"Only the sacred word shall reveal the wealth within. Transform the letters into digits, and the treasure shall be yours!\"\n",
    "\n",
    "You recall the ancient texts that spoke of \"SERMON\", a word of wisdom and power. But the lock requires a six-digit code that matches the letters in the word SERMON.\n",
    "\n",
    "The final numeric code is:\n",
    "\n",
    "9585106"
   ]
  },
  {
   "cell_type": "markdown",
   "metadata": {},
   "source": [
    "# 📌 **Adversarial Search - Othello AI**\n",
    "### **Background**\n",
    "After unlocking the treasure, you find an **ancient AI-driven board game** known as **Othello**!  \n",
    "The grandmasters of Eldoria challenge you to **build an AI agent** that can **compete against them**.  \n",
    "\n",
    "Your mission:  \n",
    "✔ Implement **Minimax**, **Alpha-Beta Pruning**, and **Expectimax** to make your AI **unbeatable**.  \n",
    "✔ Ensure **the AI follows the rules of Othello** and plays optimally.  \n",
    "\n",
    "---\n",
    "\n",
    "## **🛠️ Game Rules**\n",
    "1. Players take turns placing pieces on an **8x8 board**.\n",
    "2. A move is valid if it **captures at least one opponent piece**.\n",
    "3. Captured pieces are **flipped** to the current player’s color.\n",
    "4. The game **ends when both players have no valid moves**.\n",
    "5. The player with the **most pieces on the board wins**.\n",
    "\n",
    "---\n",
    "\n",
    "## **🎯 Your Task**\n",
    "- Implement a **valid move function**.\n",
    "- Implement **Minimax, Alpha-Beta Pruning, and Expectimax** agents.\n",
    "- Make the AI play **against itself**.\n",
    "\n",
    "---\n",
    "\n",
    "## **Step 1: Load Required Libraries**\n",
    "Below is the game logic there is no need to change anything."
   ]
  },
  {
   "cell_type": "code",
   "execution_count": 4,
   "metadata": {},
   "outputs": [
    {
     "name": "stdout",
     "output_type": "stream",
     "text": [
      "pygame 2.6.1 (SDL 2.28.4, Python 3.12.6)\n",
      "Hello from the pygame community. https://www.pygame.org/contribute.html\n"
     ]
    }
   ],
   "source": [
    "# othello.py\n",
    "import pygame\n",
    "\n",
    "# Constants\n",
    "WIDTH, HEIGHT = 600, 600\n",
    "GRID_SIZE = 8\n",
    "CELL_SIZE = WIDTH // GRID_SIZE\n",
    "WHITE = (255, 255, 255)\n",
    "BLACK = (0, 0, 0)\n",
    "GREEN = (34, 139, 34)\n",
    "GRAY = (200, 200, 200)\n",
    "\n",
    "class Othello:\n",
    "    def __init__(self):\n",
    "        self.board = [[' ' for _ in range(GRID_SIZE)] for _ in range(GRID_SIZE)]\n",
    "        self.board[3][3] = self.board[4][4] = 'W'\n",
    "        self.board[3][4] = self.board[4][3] = 'B'\n",
    "        self.current_player = 'B'\n",
    "        self.turn_count = 1\n",
    "\n",
    "    def is_valid_move(self, row, col):\n",
    "        if self.board[row][col] != ' ':\n",
    "            return False\n",
    "        directions = [(-1, -1), (-1, 0), (-1, 1), (0, -1), (0, 1), (1, -1), (1, 0), (1, 1)]\n",
    "        opponent = 'B' if self.current_player == 'W' else 'W'\n",
    "        \n",
    "        for dr, dc in directions:\n",
    "            r, c = row + dr, col + dc\n",
    "            found_opponent = False\n",
    "            while 0 <= r < GRID_SIZE and 0 <= c < GRID_SIZE and self.board[r][c] == opponent:\n",
    "                r += dr\n",
    "                c += dc\n",
    "                found_opponent = True\n",
    "            if found_opponent and 0 <= r < GRID_SIZE and 0 <= c < GRID_SIZE and self.board[r][c] == self.current_player:\n",
    "                return True\n",
    "        return False\n",
    "\n",
    "    def get_valid_moves(self):\n",
    "        return [(r, c) for r in range(GRID_SIZE) for c in range(GRID_SIZE) if self.is_valid_move(r, c)]\n",
    "\n",
    "    def make_move(self, row, col):\n",
    "        if not self.is_valid_move(row, col):\n",
    "            return False\n",
    "\n",
    "        self.board[row][col] = self.current_player\n",
    "        directions = [(-1, -1), (-1, 0), (-1, 1), (0, -1), (0, 1), (1, -1), (1, 0), (1, 1)]\n",
    "        opponent = 'B' if self.current_player == 'W' else 'W'\n",
    "\n",
    "        for dr, dc in directions:\n",
    "            r, c = row + dr, col + dc\n",
    "            captured = []\n",
    "            while 0 <= r < GRID_SIZE and 0 <= c < GRID_SIZE and self.board[r][c] == opponent:\n",
    "                captured.append((r, c))\n",
    "                r += dr\n",
    "                c += dc\n",
    "            if captured and 0 <= r < GRID_SIZE and 0 <= c < GRID_SIZE and self.board[r][c] == self.current_player:\n",
    "                for cr, cc in captured:\n",
    "                    self.board[cr][cc] = self.current_player\n",
    "\n",
    "        self.current_player = 'B' if self.current_player == 'W' else 'W'\n",
    "        self.turn_count += 1\n",
    "        return True\n",
    "\n",
    "    def game_over(self):\n",
    "        \"\"\" The game ends only if BOTH players have no valid moves \"\"\"\n",
    "        current_moves = self.get_valid_moves()\n",
    "        \n",
    "        # Temporarily switch player to check opponent's moves\n",
    "        self.current_player = 'B' if self.current_player == 'W' else 'W'\n",
    "        opponent_moves = self.get_valid_moves()\n",
    "        \n",
    "        # Switch back to original player\n",
    "        self.current_player = 'B' if self.current_player == 'W' else 'W'\n",
    "        \n",
    "        # Game only ends when BOTH players cannot move\n",
    "        return len(current_moves) == 0 and len(opponent_moves) == 0\n",
    "\n",
    "\n",
    "    def get_winner(self):\n",
    "        black_count = sum(row.count('B') for row in self.board)\n",
    "        white_count = sum(row.count('W') for row in self.board)\n",
    "        if black_count > white_count:\n",
    "            return \"Black Wins!\"\n",
    "        elif white_count > black_count:\n",
    "            return \"White Wins!\"\n",
    "        else:\n",
    "            return \"It's a Draw!\"\n"
   ]
  },
  {
   "cell_type": "code",
   "execution_count": 9,
   "metadata": {},
   "outputs": [],
   "source": [
    "import copy"
   ]
  },
  {
   "cell_type": "markdown",
   "metadata": {},
   "source": [
    "## **Step 2: Implement AI Agents**\n",
    "TODO: Implement Minimax Agent\n",
    "Minimax recursively chooses the best move by:\n",
    "\n",
    "Maximizing its own advantage.\n",
    "Minimizing the opponent's advantage.\n",
    "Exploring a tree of possible game states."
   ]
  },
  {
   "cell_type": "code",
   "execution_count": 5,
   "metadata": {},
   "outputs": [],
   "source": [
    "class MinimaxAgent:\n",
    "    def __init__(self, depth):\n",
    "        self.depth = depth\n",
    "    def get_move(self, game: Othello):\n",
    "        \"\"\" Runs Minimax to determine the best move. \"\"\"\n",
    "        valid_moves = game.get_valid_moves()\n",
    "        max_point = float('-inf')\n",
    "        max_move = valid_moves[0]\n",
    "        for move in valid_moves:\n",
    "            new_game = copy.deepcopy(game)\n",
    "            new_game.make_move(*move)\n",
    "            result = self.minimax(new_game, 2, False)\n",
    "            if result > max_point:\n",
    "                max_move = move\n",
    "                max_point = result\n",
    "            \n",
    "        return max_move\n",
    "\n",
    "    def minimax(self, game: Othello, depth, maximizing_player):\n",
    "        \"\"\" Recursively explores possible moves using Minimax. \n",
    "            maximizing_player is a boolean that determines the type of the current player \"\"\"\n",
    "        player = self.select_player(maximizing_player, game)\n",
    "        if game.game_over():\n",
    "            winner = game.get_winner()[0]\n",
    "            if player == winner: return float('inf') \n",
    "            elif winner == self.select_opponent(player): return float('-inf')\n",
    "            else: return 0\n",
    "        \n",
    "        if depth >= self.depth:\n",
    "            return self.evaluate(game, self.select_player(maximizing_player, game))\n",
    "            \n",
    "        if len(game.get_valid_moves()) == 0:\n",
    "            game.current_player = self.select_opponent(player)\n",
    "            return self.minimax(game, depth, not maximizing_player)\n",
    "\n",
    "        min_point = float('inf')\n",
    "        max_point = float('-inf')\n",
    "        for move in game.get_valid_moves():\n",
    "            new_game = copy.deepcopy(game)\n",
    "            new_game.make_move(*move)\n",
    "            point = self.minimax(new_game, depth + 1, not maximizing_player)\n",
    "            max_point = max(max_point, point)\n",
    "            min_point = min(max_point, point)\n",
    "\n",
    "        return max_point if maximizing_player else min_point\n",
    "\n",
    "    def select_opponent(self, player):\n",
    "        return 'B' if player == 'W' else 'W'\n",
    "    \n",
    "    def select_player(self, maximizing_player, game: Othello):\n",
    "        return game.current_player if maximizing_player else self.select_opponent(game.current_player)\n",
    "        \n",
    "    def evaluate(self, game, player):\n",
    "        opponent = self.select_opponent(player)\n",
    "\n",
    "        # Piece count difference\n",
    "        count_player = sum(row.count(player) for row in game.board)\n",
    "        count_opponent = sum(row.count(opponent) for row in game.board)\n",
    "        piece_score = count_player - count_opponent\n",
    "\n",
    "        # Corner control\n",
    "        corners = [(0, 0), (0, 7), (7, 0), (7, 7)]\n",
    "        player_corners = sum(1 for x, y in corners if game.board[x][y] == player)\n",
    "        opponent_corners = sum(1 for x, y in corners if game.board[x][y] == opponent)\n",
    "        corner_score = (player_corners - opponent_corners) * 5  # Weight corners higher\n",
    "        \n",
    "        return piece_score + corner_score\n"
   ]
  },
  {
   "cell_type": "markdown",
   "metadata": {},
   "source": [
    "📝 TODO: Implement Alpha-Beta Pruning\n",
    "Alpha-Beta Pruning optimizes Minimax by eliminating unnecessary branches."
   ]
  },
  {
   "cell_type": "code",
   "execution_count": 6,
   "metadata": {},
   "outputs": [],
   "source": [
    "class AlphaBetaAgent:\n",
    "    def __init__(self, depth):\n",
    "        self.depth = depth\n",
    "\n",
    "    def get_move(self, game: Othello):\n",
    "        \"\"\" Runs Alpha-Beta Pruning to determine the best move. \"\"\"\n",
    "        valid_moves = game.get_valid_moves()\n",
    "        max_point, max_move = float('-inf'), valid_moves[0]\n",
    "        for move in valid_moves:\n",
    "            new_game = copy.deepcopy(game)\n",
    "            new_game.make_move(*move)\n",
    "            result = self.alpha_beta(new_game, 2,float('-inf'), float('inf'), False)\n",
    "            if result > max_point:\n",
    "                max_point = result\n",
    "                max_move = move\n",
    "            \n",
    "        return max_move\n",
    "\n",
    "    def alpha_beta(self, game: Othello, depth, alpha, beta, maximizing_player):\n",
    "        \"\"\" Applies pruning to Minimax for efficiency. \"\"\"\n",
    "        player = self.select_player(maximizing_player, game)\n",
    "        if game.game_over():\n",
    "            winner = game.get_winner()[0]\n",
    "            if player == winner: return float('inf') \n",
    "            elif winner == self.select_opponent(player): return float('-inf')\n",
    "            else: return 0\n",
    "        \n",
    "        if depth >= self.depth:\n",
    "            return self.evaluate(game, self.select_player(maximizing_player, game))\n",
    "            \n",
    "        if len(game.get_valid_moves()) == 0:\n",
    "            game.current_player = self.select_opponent(player)\n",
    "            return self.alpha_beta(game, depth, alpha, beta, not maximizing_player)\n",
    "\n",
    "        min_point = float('inf')\n",
    "        max_point = float('-inf')\n",
    "        for move in game.get_valid_moves():\n",
    "            new_game = copy.deepcopy(game)\n",
    "            new_game.make_move(*move)\n",
    "            point = self.alpha_beta(new_game, depth + 1,alpha, beta, not maximizing_player)\n",
    "            max_point = max(max_point, point)\n",
    "            min_point = min(min_point, point)\n",
    "            if maximizing_player:\n",
    "                if max_point >= beta: return max_point\n",
    "                alpha = max(max_point, alpha)\n",
    "            else:\n",
    "                if min_point <= alpha :return min_point\n",
    "                beta = min(min_point, beta)\n",
    "        \n",
    "        return max_point if maximizing_player else min_point\n",
    "\n",
    "    def select_opponent(self, player):\n",
    "        return 'B' if player == 'W' else 'W'\n",
    "    \n",
    "    def select_player(self, maximizing_player, game: Othello):\n",
    "        return game.current_player if maximizing_player else self.select_opponent(game.current_player)\n",
    "        \n",
    "    def evaluate(self, game, player):\n",
    "        opponent = self.select_opponent(player)\n",
    "\n",
    "        # Piece count difference\n",
    "        count_player = sum(row.count(player) for row in game.board)\n",
    "        count_opponent = sum(row.count(opponent) for row in game.board)\n",
    "        piece_score = count_player - count_opponent\n",
    "\n",
    "        # Corner control\n",
    "        corners = [(0, 0), (0, 7), (7, 0), (7, 7)]\n",
    "        player_corners = sum(1 for x, y in corners if game.board[x][y] == player)\n",
    "        opponent_corners = sum(1 for x, y in corners if game.board[x][y] == opponent)\n",
    "        corner_score = (player_corners - opponent_corners) * 5  # Weight corners higher\n",
    "        \n",
    "        return piece_score + corner_score\n"
   ]
  },
  {
   "cell_type": "markdown",
   "metadata": {},
   "source": [
    "📝 TODO: Implement Expectimax Agent\n",
    "Expectimax is used when the opponent’s move is not optimal and follows a probabilistic strategy."
   ]
  },
  {
   "cell_type": "code",
   "execution_count": 7,
   "metadata": {},
   "outputs": [],
   "source": [
    "class ExpectimaxAgent:\n",
    "    def __init__(self, depth):\n",
    "        self.depth = depth\n",
    "\n",
    "    def get_move(self, game):\n",
    "        \"\"\" Runs Expectimax to determine the best move. \"\"\"\n",
    "        max_point, max_move = float('-inf'), None\n",
    "        for move in game.get_valid_moves():\n",
    "            new_game = copy.deepcopy(game)\n",
    "            new_game.make_move(*move)\n",
    "            result = self.expectimax(new_game, 2, False)\n",
    "            if result > max_point:\n",
    "                max_point = result\n",
    "                max_move = move\n",
    "            \n",
    "        return max_move\n",
    "    \n",
    "    def expectimax(self, game: Othello, depth, maximizing_player):\n",
    "        \"\"\" Uses probability-weighted decision-making instead of Minimax. \"\"\"\n",
    "\n",
    "        player = self.select_player(maximizing_player, game)\n",
    "        if game.game_over():\n",
    "            winner = game.get_winner()[0]\n",
    "            if player == winner: return float('inf') \n",
    "            elif winner == self.select_opponent(player): return float('-inf')\n",
    "            else: return 0\n",
    "        if depth >= self.depth:\n",
    "            return self.evaluate(game, self.select_player(maximizing_player, game))\n",
    "        \n",
    "        if not game.get_valid_moves():\n",
    "            game.current_player = 'W' if game.current_player == 'B' else 'B'\n",
    "            maximizing_player = not maximizing_player\n",
    "        \n",
    "        sum_points = 0\n",
    "        max_point = float('-inf')\n",
    "        valid_moves = game.get_valid_moves()\n",
    "        for move in valid_moves:\n",
    "            new_game = copy.deepcopy(game)\n",
    "            new_game.make_move(*move)\n",
    "            point = self.expectimax(new_game, depth + 1, not maximizing_player)\n",
    "            max_point = max(point, max_point)\n",
    "            sum_points += point\n",
    "\n",
    "        return max_point if maximizing_player else sum_points / len(valid_moves)\n",
    "\n",
    "    def select_opponent(self, player):\n",
    "        return 'W' if player == 'B' else 'W'\n",
    "    \n",
    "    def select_player(self, maximizing_player, game: Othello):\n",
    "        return game.current_player if maximizing_player else self.select_opponent(game.current_player)\n",
    "        \n",
    "    def evaluate(self, game: Othello, player):\n",
    "        opponent = self.select_opponent(player)\n",
    "\n",
    "        # Piece count difference\n",
    "        count_player = sum(row.count(player) for row in game.board)\n",
    "        count_opponent = sum(row.count(opponent) for row in game.board)\n",
    "        piece_score = count_player - count_opponent\n",
    "    \n",
    "        # # Corner control\n",
    "        corners = [(0, 0), (0, 7), (7, 0), (7, 7)]\n",
    "        player_corners = sum(1 for x, y in corners if game.board[x][y] == player)\n",
    "        opponent_corners = sum(1 for x, y in corners if game.board[x][y] == opponent)\n",
    "        corner_score = (player_corners - opponent_corners) * 5  # Weight corners higher\n",
    "\n",
    "        return piece_score + corner_score"
   ]
  },
  {
   "cell_type": "markdown",
   "metadata": {},
   "source": [
    "You can use the code below to initiate an agent and play with yourself"
   ]
  },
  {
   "cell_type": "code",
   "execution_count": 10,
   "metadata": {},
   "outputs": [
    {
     "name": "stdout",
     "output_type": "stream",
     "text": [
      "Game Over! Winner: White Wins!\n"
     ]
    }
   ],
   "source": [
    "# main.py\n",
    "import pygame\n",
    "\n",
    "# Initialize Pygame\n",
    "pygame.init()\n",
    "screen = pygame.display.set_mode((600, 600))\n",
    "pygame.display.set_caption(\"Othello Game\")\n",
    "\n",
    "# Load game instance\n",
    "game = Othello()\n",
    "\n",
    "# Choose AI agent (Modify as needed)\n",
    "# agent = MinimaxAgent(depth=4)\n",
    "agent = AlphaBetaAgent(depth=6)  # Using Alpha-Beta Pruning\n",
    "# agent = ExpectimaxAgent(depth=4)\n",
    "\n",
    "def draw_board(screen, game):\n",
    "    \"\"\" Draws the Othello board and pieces \"\"\"\n",
    "    screen.fill((34, 139, 34))  # Green background\n",
    "    for i in range(9):  # Grid lines\n",
    "        pygame.draw.line(screen, (0, 0, 0), (i * 75, 0), (i * 75, 600))\n",
    "        pygame.draw.line(screen, (0, 0, 0), (0, i * 75), (600, i * 75))\n",
    "\n",
    "    # Draw pieces\n",
    "    for r in range(8):\n",
    "        for c in range(8):\n",
    "            if game.board[r][c] == 'B':\n",
    "                pygame.draw.circle(screen, (0, 0, 0), (c * 75 + 37, r * 75 + 37), 30)\n",
    "            elif game.board[r][c] == 'W':\n",
    "                pygame.draw.circle(screen, (255, 255, 255), (c * 75 + 37, r * 75 + 37), 30)\n",
    "\n",
    "    # Display turn count\n",
    "    font = pygame.font.Font(None, 36)\n",
    "    turn_text = font.render(f\"Turn: {game.turn_count}\", True, (255, 255, 255))\n",
    "    screen.blit(turn_text, (10, 10))\n",
    "    \n",
    "    pygame.display.flip()\n",
    "\n",
    "# Game loop\n",
    "running = True\n",
    "while running:\n",
    "    draw_board(screen, game)  # Update board graphics each frame\n",
    "\n",
    "    for event in pygame.event.get():\n",
    "        if event.type == pygame.QUIT:\n",
    "            running = False\n",
    "        elif event.type == pygame.MOUSEBUTTONDOWN and game.current_player == 'B':\n",
    "            x, y = pygame.mouse.get_pos()\n",
    "            row, col = y // 75, x // 75\n",
    "            if (row, col) in game.get_valid_moves():\n",
    "                game.make_move(row, col)\n",
    "        elif game.current_player == 'W':  # AI's turn\n",
    "            ai_move = agent.get_move(game)\n",
    "            if ai_move:\n",
    "                game.make_move(*ai_move)\n",
    "\n",
    "    if game.game_over():\n",
    "        print(\"Game Over! Winner:\", game.get_winner())\n",
    "        pygame.time.delay(3000)\n",
    "        running = False\n",
    "        break\n",
    "\n",
    "    valid_moves = game.get_valid_moves()\n",
    "    \n",
    "    if not valid_moves:  \n",
    "        # If no valid moves, skip the turn\n",
    "        print(f\"No valid moves for {game.current_player}. Skipping turn.\")\n",
    "        game.current_player = 'B' if game.current_player == 'W' else 'W'\n",
    "        continue  # Restart loop without making a move\n",
    "\n",
    "    \n",
    "    \n",
    "\n",
    "pygame.quit()"
   ]
  },
  {
   "cell_type": "markdown",
   "metadata": {},
   "source": [
    "you can use this code to make two agents play each other"
   ]
  },
  {
   "cell_type": "code",
   "execution_count": 14,
   "metadata": {},
   "outputs": [
    {
     "name": "stdout",
     "output_type": "stream",
     "text": [
      "Game Over! Winner: Black Wins!\n"
     ]
    }
   ],
   "source": [
    "# main.py\n",
    "import pygame\n",
    "\n",
    "# Initialize Pygame\n",
    "pygame.init()\n",
    "screen = pygame.display.set_mode((600, 600))\n",
    "pygame.display.set_caption(\"Othello AI vs AI\")\n",
    "\n",
    "# Load game instance\n",
    "game = Othello()\n",
    "\n",
    "# Choose AI agents (Modify as needed)\n",
    "ai_player_W = MinimaxAgent(depth=4)  # AI controlling Black pieces\n",
    "ai_player_B = AlphaBetaAgent(depth=6)  # AI controlling White pieces\n",
    "\n",
    "def draw_board(screen, game):\n",
    "    \"\"\" Draws the Othello board and pieces \"\"\"\n",
    "    screen.fill((34, 139, 34))  # Green background\n",
    "    for i in range(9):  # Grid lines\n",
    "        pygame.draw.line(screen, (0, 0, 0), (i * 75, 0), (i * 75, 600))\n",
    "        pygame.draw.line(screen, (0, 0, 0), (0, i * 75), (600, i * 75))\n",
    "\n",
    "    # Draw pieces\n",
    "    for r in range(8):\n",
    "        for c in range(8):\n",
    "            if game.board[r][c] == 'B':\n",
    "                pygame.draw.circle(screen, (0, 0, 0), (c * 75 + 37, r * 75 + 37), 30)\n",
    "            elif game.board[r][c] == 'W':\n",
    "                pygame.draw.circle(screen, (255, 255, 255), (c * 75 + 37, r * 75 + 37), 30)\n",
    "\n",
    "    # Display turn count\n",
    "    font = pygame.font.Font(None, 36)\n",
    "    turn_text = font.render(f\"Turn: {game.turn_count}\", True, (255, 255, 255))\n",
    "    screen.blit(turn_text, (10, 10))\n",
    "    \n",
    "    pygame.display.flip()\n",
    "\n",
    "# AI vs AI Game Loop\n",
    "running = True\n",
    "while running:\n",
    "    pygame.event.pump()  # ✅ This prevents the game from freezing when clicked\n",
    "    draw_board(screen, game)  # Update board graphics each frame\n",
    "\n",
    "    if game.game_over():\n",
    "        print(\"Game Over! Winner:\", game.get_winner())\n",
    "        pygame.time.delay(3000)\n",
    "        break\n",
    "\n",
    "    # Check if the current player has valid moves\n",
    "    valid_moves = game.get_valid_moves()\n",
    "    \n",
    "    if not valid_moves:  \n",
    "        # If no valid moves, skip the turn\n",
    "        print(f\"No valid moves for {game.current_player}. Skipping turn.\")\n",
    "        game.current_player = 'B' if game.current_player == 'W' else 'W'\n",
    "        continue  # Restart loop without making a move\n",
    "\n",
    "    # AI makes its move\n",
    "    # pygame.time.delay(500)  # Small delay for better visualization\n",
    "    if game.current_player == 'B':\n",
    "        ai_move = ai_player_B.get_move(game)\n",
    "    else:\n",
    "        ai_move = ai_player_W.get_move(game)\n",
    "    \n",
    "    if ai_move:\n",
    "        game.make_move(*ai_move)\n",
    "\n",
    "pygame.quit()\n"
   ]
  },
  {
   "cell_type": "code",
   "execution_count": null,
   "metadata": {},
   "outputs": [],
   "source": []
  }
 ],
 "metadata": {
  "colab": {
   "provenance": []
  },
  "kernelspec": {
   "display_name": "Python 3",
   "language": "python",
   "name": "python3"
  },
  "language_info": {
   "codemirror_mode": {
    "name": "ipython",
    "version": 3
   },
   "file_extension": ".py",
   "mimetype": "text/x-python",
   "name": "python",
   "nbconvert_exporter": "python",
   "pygments_lexer": "ipython3",
   "version": "3.12.6"
  }
 },
 "nbformat": 4,
 "nbformat_minor": 4
}
